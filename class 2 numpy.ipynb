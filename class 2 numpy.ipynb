{
 "cells": [
  {
   "cell_type": "code",
   "execution_count": 1,
   "id": "db58a294",
   "metadata": {},
   "outputs": [],
   "source": [
    "import numpy as np\n",
    "import pandas as pd\n",
    "import re"
   ]
  },
  {
   "cell_type": "code",
   "execution_count": 2,
   "id": "5ddbc637",
   "metadata": {},
   "outputs": [
    {
     "data": {
      "text/plain": [
       "array([[1, 2, 3],\n",
       "       [3, 4, 5],\n",
       "       [6, 7, 8]])"
      ]
     },
     "execution_count": 2,
     "metadata": {},
     "output_type": "execute_result"
    }
   ],
   "source": [
    "data=np.array([[1,2,3],\n",
    "             [3,4,5],\n",
    "             [6,7,8]])\n",
    "data"
   ]
  },
  {
   "cell_type": "code",
   "execution_count": 4,
   "id": "d4c5dcb6",
   "metadata": {},
   "outputs": [
    {
     "data": {
      "text/plain": [
       "array([[ 6,  7,  8],\n",
       "       [ 8,  9, 10],\n",
       "       [11, 12, 13]])"
      ]
     },
     "execution_count": 4,
     "metadata": {},
     "output_type": "execute_result"
    }
   ],
   "source": [
    "data+5\n"
   ]
  },
  {
   "cell_type": "code",
   "execution_count": 5,
   "id": "57ee8045",
   "metadata": {},
   "outputs": [
    {
     "data": {
      "text/plain": [
       "array([[-4, -3, -2],\n",
       "       [-2, -1,  0],\n",
       "       [ 1,  2,  3]])"
      ]
     },
     "execution_count": 5,
     "metadata": {},
     "output_type": "execute_result"
    }
   ],
   "source": [
    "data-5\n"
   ]
  },
  {
   "cell_type": "code",
   "execution_count": 6,
   "id": "cf795f16",
   "metadata": {},
   "outputs": [
    {
     "data": {
      "text/plain": [
       "array([[ 5, 10, 15],\n",
       "       [15, 20, 25],\n",
       "       [30, 35, 40]])"
      ]
     },
     "execution_count": 6,
     "metadata": {},
     "output_type": "execute_result"
    }
   ],
   "source": [
    "data*5\n"
   ]
  },
  {
   "cell_type": "code",
   "execution_count": 7,
   "id": "2aa7019a",
   "metadata": {},
   "outputs": [
    {
     "data": {
      "text/plain": [
       "array([[0.5, 1. , 1.5],\n",
       "       [1.5, 2. , 2.5],\n",
       "       [3. , 3.5, 4. ]])"
      ]
     },
     "execution_count": 7,
     "metadata": {},
     "output_type": "execute_result"
    }
   ],
   "source": [
    "data/2\n"
   ]
  },
  {
   "cell_type": "code",
   "execution_count": 8,
   "id": "27efd6a9",
   "metadata": {},
   "outputs": [
    {
     "data": {
      "text/plain": [
       "array([[1, 0, 1],\n",
       "       [1, 0, 1],\n",
       "       [0, 1, 0]], dtype=int32)"
      ]
     },
     "execution_count": 8,
     "metadata": {},
     "output_type": "execute_result"
    }
   ],
   "source": [
    "data%2"
   ]
  },
  {
   "cell_type": "code",
   "execution_count": 9,
   "id": "2ea5d12f",
   "metadata": {},
   "outputs": [
    {
     "data": {
      "text/plain": [
       "array([ 0,  1,  2,  3,  4,  5,  6,  7,  8,  9, 10])"
      ]
     },
     "execution_count": 9,
     "metadata": {},
     "output_type": "execute_result"
    }
   ],
   "source": [
    "data=np.arange(0,11)\n",
    "data"
   ]
  },
  {
   "cell_type": "code",
   "execution_count": 12,
   "id": "131f52d5",
   "metadata": {},
   "outputs": [
    {
     "data": {
      "text/plain": [
       "array([[[[  0,   1,   2,   3,   4,   5,   6,   7,   8,   9],\n",
       "         [ 10,  11,  12,  13,  14,  15,  16,  17,  18,  19],\n",
       "         [ 20,  21,  22,  23,  24,  25,  26,  27,  28,  29],\n",
       "         [ 30,  31,  32,  33,  34,  35,  36,  37,  38,  39],\n",
       "         [ 40,  41,  42,  43,  44,  45,  46,  47,  48,  49],\n",
       "         [ 50,  51,  52,  53,  54,  55,  56,  57,  58,  59],\n",
       "         [ 60,  61,  62,  63,  64,  65,  66,  67,  68,  69],\n",
       "         [ 70,  71,  72,  73,  74,  75,  76,  77,  78,  79],\n",
       "         [ 80,  81,  82,  83,  84,  85,  86,  87,  88,  89],\n",
       "         [ 90,  91,  92,  93,  94,  95,  96,  97,  98,  99]],\n",
       "\n",
       "        [[100, 101, 102, 103, 104, 105, 106, 107, 108, 109],\n",
       "         [110, 111, 112, 113, 114, 115, 116, 117, 118, 119],\n",
       "         [120, 121, 122, 123, 124, 125, 126, 127, 128, 129],\n",
       "         [130, 131, 132, 133, 134, 135, 136, 137, 138, 139],\n",
       "         [140, 141, 142, 143, 144, 145, 146, 147, 148, 149],\n",
       "         [150, 151, 152, 153, 154, 155, 156, 157, 158, 159],\n",
       "         [160, 161, 162, 163, 164, 165, 166, 167, 168, 169],\n",
       "         [170, 171, 172, 173, 174, 175, 176, 177, 178, 179],\n",
       "         [180, 181, 182, 183, 184, 185, 186, 187, 188, 189],\n",
       "         [190, 191, 192, 193, 194, 195, 196, 197, 198, 199]],\n",
       "\n",
       "        [[200, 201, 202, 203, 204, 205, 206, 207, 208, 209],\n",
       "         [210, 211, 212, 213, 214, 215, 216, 217, 218, 219],\n",
       "         [220, 221, 222, 223, 224, 225, 226, 227, 228, 229],\n",
       "         [230, 231, 232, 233, 234, 235, 236, 237, 238, 239],\n",
       "         [240, 241, 242, 243, 244, 245, 246, 247, 248, 249],\n",
       "         [250, 251, 252, 253, 254, 255, 256, 257, 258, 259],\n",
       "         [260, 261, 262, 263, 264, 265, 266, 267, 268, 269],\n",
       "         [270, 271, 272, 273, 274, 275, 276, 277, 278, 279],\n",
       "         [280, 281, 282, 283, 284, 285, 286, 287, 288, 289],\n",
       "         [290, 291, 292, 293, 294, 295, 296, 297, 298, 299]]],\n",
       "\n",
       "\n",
       "       [[[300, 301, 302, 303, 304, 305, 306, 307, 308, 309],\n",
       "         [310, 311, 312, 313, 314, 315, 316, 317, 318, 319],\n",
       "         [320, 321, 322, 323, 324, 325, 326, 327, 328, 329],\n",
       "         [330, 331, 332, 333, 334, 335, 336, 337, 338, 339],\n",
       "         [340, 341, 342, 343, 344, 345, 346, 347, 348, 349],\n",
       "         [350, 351, 352, 353, 354, 355, 356, 357, 358, 359],\n",
       "         [360, 361, 362, 363, 364, 365, 366, 367, 368, 369],\n",
       "         [370, 371, 372, 373, 374, 375, 376, 377, 378, 379],\n",
       "         [380, 381, 382, 383, 384, 385, 386, 387, 388, 389],\n",
       "         [390, 391, 392, 393, 394, 395, 396, 397, 398, 399]],\n",
       "\n",
       "        [[400, 401, 402, 403, 404, 405, 406, 407, 408, 409],\n",
       "         [410, 411, 412, 413, 414, 415, 416, 417, 418, 419],\n",
       "         [420, 421, 422, 423, 424, 425, 426, 427, 428, 429],\n",
       "         [430, 431, 432, 433, 434, 435, 436, 437, 438, 439],\n",
       "         [440, 441, 442, 443, 444, 445, 446, 447, 448, 449],\n",
       "         [450, 451, 452, 453, 454, 455, 456, 457, 458, 459],\n",
       "         [460, 461, 462, 463, 464, 465, 466, 467, 468, 469],\n",
       "         [470, 471, 472, 473, 474, 475, 476, 477, 478, 479],\n",
       "         [480, 481, 482, 483, 484, 485, 486, 487, 488, 489],\n",
       "         [490, 491, 492, 493, 494, 495, 496, 497, 498, 499]],\n",
       "\n",
       "        [[500, 501, 502, 503, 504, 505, 506, 507, 508, 509],\n",
       "         [510, 511, 512, 513, 514, 515, 516, 517, 518, 519],\n",
       "         [520, 521, 522, 523, 524, 525, 526, 527, 528, 529],\n",
       "         [530, 531, 532, 533, 534, 535, 536, 537, 538, 539],\n",
       "         [540, 541, 542, 543, 544, 545, 546, 547, 548, 549],\n",
       "         [550, 551, 552, 553, 554, 555, 556, 557, 558, 559],\n",
       "         [560, 561, 562, 563, 564, 565, 566, 567, 568, 569],\n",
       "         [570, 571, 572, 573, 574, 575, 576, 577, 578, 579],\n",
       "         [580, 581, 582, 583, 584, 585, 586, 587, 588, 589],\n",
       "         [590, 591, 592, 593, 594, 595, 596, 597, 598, 599]]]])"
      ]
     },
     "execution_count": 12,
     "metadata": {},
     "output_type": "execute_result"
    }
   ],
   "source": [
    "data=np.arange(2*3*10*10).reshape(2,3,10,10)\n",
    "data"
   ]
  },
  {
   "cell_type": "code",
   "execution_count": 13,
   "id": "257931bd",
   "metadata": {},
   "outputs": [
    {
     "data": {
      "text/plain": [
       "array([[[  0,   1,   2,   3,   4,   5,   6,   7,   8,   9],\n",
       "        [ 10,  11,  12,  13,  14,  15,  16,  17,  18,  19],\n",
       "        [ 20,  21,  22,  23,  24,  25,  26,  27,  28,  29],\n",
       "        [ 30,  31,  32,  33,  34,  35,  36,  37,  38,  39],\n",
       "        [ 40,  41,  42,  43,  44,  45,  46,  47,  48,  49],\n",
       "        [ 50,  51,  52,  53,  54,  55,  56,  57,  58,  59],\n",
       "        [ 60,  61,  62,  63,  64,  65,  66,  67,  68,  69],\n",
       "        [ 70,  71,  72,  73,  74,  75,  76,  77,  78,  79],\n",
       "        [ 80,  81,  82,  83,  84,  85,  86,  87,  88,  89],\n",
       "        [ 90,  91,  92,  93,  94,  95,  96,  97,  98,  99]],\n",
       "\n",
       "       [[100, 101, 102, 103, 104, 105, 106, 107, 108, 109],\n",
       "        [110, 111, 112, 113, 114, 115, 116, 117, 118, 119],\n",
       "        [120, 121, 122, 123, 124, 125, 126, 127, 128, 129],\n",
       "        [130, 131, 132, 133, 134, 135, 136, 137, 138, 139],\n",
       "        [140, 141, 142, 143, 144, 145, 146, 147, 148, 149],\n",
       "        [150, 151, 152, 153, 154, 155, 156, 157, 158, 159],\n",
       "        [160, 161, 162, 163, 164, 165, 166, 167, 168, 169],\n",
       "        [170, 171, 172, 173, 174, 175, 176, 177, 178, 179],\n",
       "        [180, 181, 182, 183, 184, 185, 186, 187, 188, 189],\n",
       "        [190, 191, 192, 193, 194, 195, 196, 197, 198, 199]],\n",
       "\n",
       "       [[200, 201, 202, 203, 204, 205, 206, 207, 208, 209],\n",
       "        [210, 211, 212, 213, 214, 215, 216, 217, 218, 219],\n",
       "        [220, 221, 222, 223, 224, 225, 226, 227, 228, 229],\n",
       "        [230, 231, 232, 233, 234, 235, 236, 237, 238, 239],\n",
       "        [240, 241, 242, 243, 244, 245, 246, 247, 248, 249],\n",
       "        [250, 251, 252, 253, 254, 255, 256, 257, 258, 259],\n",
       "        [260, 261, 262, 263, 264, 265, 266, 267, 268, 269],\n",
       "        [270, 271, 272, 273, 274, 275, 276, 277, 278, 279],\n",
       "        [280, 281, 282, 283, 284, 285, 286, 287, 288, 289],\n",
       "        [290, 291, 292, 293, 294, 295, 296, 297, 298, 299]]])"
      ]
     },
     "execution_count": 13,
     "metadata": {},
     "output_type": "execute_result"
    }
   ],
   "source": [
    "data[0]"
   ]
  },
  {
   "cell_type": "code",
   "execution_count": 15,
   "id": "eb0bded6",
   "metadata": {},
   "outputs": [
    {
     "data": {
      "text/plain": [
       "array([ 0,  2,  4,  6,  8, 10, 12, 14, 16, 18, 20])"
      ]
     },
     "execution_count": 15,
     "metadata": {},
     "output_type": "execute_result"
    }
   ],
   "source": [
    "a=np.arange(0,21,2)\n",
    "a"
   ]
  },
  {
   "cell_type": "code",
   "execution_count": 18,
   "id": "fd1ad0d0",
   "metadata": {},
   "outputs": [
    {
     "name": "stdout",
     "output_type": "stream",
     "text": [
      "shape (11,)\n"
     ]
    }
   ],
   "source": [
    "print(\"shape\", a.shape)"
   ]
  },
  {
   "cell_type": "code",
   "execution_count": 24,
   "id": "a6574640",
   "metadata": {},
   "outputs": [
    {
     "name": "stdout",
     "output_type": "stream",
     "text": [
      "Shape (3, 4)\n",
      "dimension 2\n",
      "size 12\n"
     ]
    }
   ],
   "source": [
    "a=np.array([[1,2,3,4],\n",
    "           [5,6,7,8],\n",
    "           [9,10,11,12]])\n",
    "print(\"Shape\",a.shape)# each dimension number axis\n",
    "print(\"dimension\",a.ndim)# total dimension axis\n",
    "print(\"size\",a.size)# total elemnts\n"
   ]
  },
  {
   "cell_type": "markdown",
   "id": "5c3f7370",
   "metadata": {},
   "source": [
    "# slicing"
   ]
  },
  {
   "cell_type": "code",
   "execution_count": 22,
   "id": "b6a4f0db",
   "metadata": {},
   "outputs": [
    {
     "data": {
      "text/plain": [
       "7"
      ]
     },
     "execution_count": 22,
     "metadata": {},
     "output_type": "execute_result"
    }
   ],
   "source": [
    "a[1][2]\n",
    "#print(\"shape\", a.shape)"
   ]
  },
  {
   "cell_type": "code",
   "execution_count": 23,
   "id": "bca6c982",
   "metadata": {},
   "outputs": [
    {
     "data": {
      "text/plain": [
       "7"
      ]
     },
     "execution_count": 23,
     "metadata": {},
     "output_type": "execute_result"
    }
   ],
   "source": [
    "a[1,2]"
   ]
  },
  {
   "cell_type": "code",
   "execution_count": 25,
   "id": "d18188d7",
   "metadata": {},
   "outputs": [
    {
     "data": {
      "text/plain": [
       "array([5, 6, 7, 8])"
      ]
     },
     "execution_count": 25,
     "metadata": {},
     "output_type": "execute_result"
    }
   ],
   "source": [
    "a[1]"
   ]
  },
  {
   "cell_type": "code",
   "execution_count": 26,
   "id": "71536f49",
   "metadata": {},
   "outputs": [
    {
     "data": {
      "text/plain": [
       "array([ 9, 10, 11, 12])"
      ]
     },
     "execution_count": 26,
     "metadata": {},
     "output_type": "execute_result"
    }
   ],
   "source": [
    "a[2]"
   ]
  },
  {
   "cell_type": "code",
   "execution_count": 27,
   "id": "c6066b08",
   "metadata": {},
   "outputs": [
    {
     "ename": "IndexError",
     "evalue": "index 3 is out of bounds for axis 0 with size 3",
     "output_type": "error",
     "traceback": [
      "\u001b[1;31m---------------------------------------------------------------------------\u001b[0m",
      "\u001b[1;31mIndexError\u001b[0m                                Traceback (most recent call last)",
      "Input \u001b[1;32mIn [27]\u001b[0m, in \u001b[0;36m<cell line: 1>\u001b[1;34m()\u001b[0m\n\u001b[1;32m----> 1\u001b[0m \u001b[43ma\u001b[49m\u001b[43m[\u001b[49m\u001b[38;5;241;43m3\u001b[39;49m\u001b[43m]\u001b[49m\n",
      "\u001b[1;31mIndexError\u001b[0m: index 3 is out of bounds for axis 0 with size 3"
     ]
    }
   ],
   "source": [
    "a[3]"
   ]
  },
  {
   "cell_type": "code",
   "execution_count": 28,
   "id": "5a4d0481",
   "metadata": {},
   "outputs": [
    {
     "data": {
      "text/plain": [
       "array([1, 2, 3, 4])"
      ]
     },
     "execution_count": 28,
     "metadata": {},
     "output_type": "execute_result"
    }
   ],
   "source": [
    "a[0]# zero row all columns"
   ]
  },
  {
   "cell_type": "code",
   "execution_count": 29,
   "id": "2e965ebb",
   "metadata": {},
   "outputs": [
    {
     "data": {
      "text/plain": [
       "array([1, 5, 9])"
      ]
     },
     "execution_count": 29,
     "metadata": {},
     "output_type": "execute_result"
    }
   ],
   "source": [
    "a[:,0] #zero columns all rows"
   ]
  },
  {
   "cell_type": "code",
   "execution_count": 30,
   "id": "52e1cede",
   "metadata": {},
   "outputs": [
    {
     "data": {
      "text/plain": [
       "array([ 4,  8, 12])"
      ]
     },
     "execution_count": 30,
     "metadata": {},
     "output_type": "execute_result"
    }
   ],
   "source": [
    "a[:,-1]#last coumn all rows"
   ]
  },
  {
   "cell_type": "code",
   "execution_count": 32,
   "id": "86950b16",
   "metadata": {},
   "outputs": [
    {
     "data": {
      "text/plain": [
       "array([1, 2, 3, 4])"
      ]
     },
     "execution_count": 32,
     "metadata": {},
     "output_type": "execute_result"
    }
   ],
   "source": [
    "a[0,:]# zero rows all columns"
   ]
  },
  {
   "cell_type": "code",
   "execution_count": 33,
   "id": "de750c33",
   "metadata": {},
   "outputs": [
    {
     "data": {
      "text/plain": [
       "array([5, 6, 7, 8])"
      ]
     },
     "execution_count": 33,
     "metadata": {},
     "output_type": "execute_result"
    }
   ],
   "source": [
    "a[1,:]# first row all columns"
   ]
  },
  {
   "cell_type": "code",
   "execution_count": 34,
   "id": "19634965",
   "metadata": {},
   "outputs": [
    {
     "data": {
      "text/plain": [
       "array([[ 0,  1,  2,  3,  4,  5,  6,  7,  8,  9],\n",
       "       [10, 11, 12, 13, 14, 15, 16, 17, 18, 19],\n",
       "       [20, 21, 22, 23, 24, 25, 26, 27, 28, 29],\n",
       "       [30, 31, 32, 33, 34, 35, 36, 37, 38, 39],\n",
       "       [40, 41, 42, 43, 44, 45, 46, 47, 48, 49],\n",
       "       [50, 51, 52, 53, 54, 55, 56, 57, 58, 59],\n",
       "       [60, 61, 62, 63, 64, 65, 66, 67, 68, 69],\n",
       "       [70, 71, 72, 73, 74, 75, 76, 77, 78, 79],\n",
       "       [80, 81, 82, 83, 84, 85, 86, 87, 88, 89],\n",
       "       [90, 91, 92, 93, 94, 95, 96, 97, 98, 99]])"
      ]
     },
     "execution_count": 34,
     "metadata": {},
     "output_type": "execute_result"
    }
   ],
   "source": [
    "data=np.arange(10*10).reshape(10,10)\n",
    "data"
   ]
  },
  {
   "cell_type": "code",
   "execution_count": 35,
   "id": "8672592e",
   "metadata": {},
   "outputs": [
    {
     "data": {
      "text/plain": [
       "array([55, 65, 75, 85, 95])"
      ]
     },
     "execution_count": 35,
     "metadata": {},
     "output_type": "execute_result"
    }
   ],
   "source": [
    "data[5:,5]"
   ]
  },
  {
   "cell_type": "code",
   "execution_count": 36,
   "id": "c6425627",
   "metadata": {},
   "outputs": [
    {
     "data": {
      "text/plain": [
       "array([140.5, 165.5, 190.5, 215.5, 240.5])"
      ]
     },
     "execution_count": 36,
     "metadata": {},
     "output_type": "execute_result"
    }
   ],
   "source": [
    "data[5:,5]*5/2+3"
   ]
  },
  {
   "cell_type": "code",
   "execution_count": 38,
   "id": "051aca75",
   "metadata": {},
   "outputs": [
    {
     "data": {
      "text/plain": [
       "array([[22, 23, 24, 25, 26, 27],\n",
       "       [32, 33, 34, 35, 36, 37],\n",
       "       [42, 43, 44, 45, 46, 47],\n",
       "       [52, 53, 54, 55, 56, 57],\n",
       "       [62, 63, 64, 65, 66, 67],\n",
       "       [72, 73, 74, 75, 76, 77]])"
      ]
     },
     "execution_count": 38,
     "metadata": {},
     "output_type": "execute_result"
    }
   ],
   "source": [
    "data[2:-2 ,2:-2]"
   ]
  },
  {
   "cell_type": "code",
   "execution_count": 39,
   "id": "8c44a3ac",
   "metadata": {},
   "outputs": [
    {
     "data": {
      "text/plain": [
       "array([0., 0., 0., 0., 0., 0., 0., 0., 0., 0.])"
      ]
     },
     "execution_count": 39,
     "metadata": {},
     "output_type": "execute_result"
    }
   ],
   "source": [
    "np.zeros(10)"
   ]
  },
  {
   "cell_type": "code",
   "execution_count": 49,
   "id": "7f2d8feb",
   "metadata": {},
   "outputs": [
    {
     "data": {
      "text/plain": [
       "array([0, 0, 0, 0, 0, 0, 0, 0, 0, 0])"
      ]
     },
     "execution_count": 49,
     "metadata": {},
     "output_type": "execute_result"
    }
   ],
   "source": [
    "np.zeros(10, dtype=int)"
   ]
  },
  {
   "cell_type": "code",
   "execution_count": 40,
   "id": "ee8169c5",
   "metadata": {},
   "outputs": [
    {
     "data": {
      "text/plain": [
       "array([1., 1., 1., 1., 1., 1.])"
      ]
     },
     "execution_count": 40,
     "metadata": {},
     "output_type": "execute_result"
    }
   ],
   "source": [
    "np.ones(6)"
   ]
  },
  {
   "cell_type": "code",
   "execution_count": 51,
   "id": "3d45f297",
   "metadata": {},
   "outputs": [
    {
     "data": {
      "text/plain": [
       "array([1, 1, 1, 1, 1, 1])"
      ]
     },
     "execution_count": 51,
     "metadata": {},
     "output_type": "execute_result"
    }
   ],
   "source": [
    "np.ones(6, dtype=int)"
   ]
  },
  {
   "cell_type": "code",
   "execution_count": 41,
   "id": "938bcf97",
   "metadata": {},
   "outputs": [
    {
     "data": {
      "text/plain": [
       "(10, 10)"
      ]
     },
     "execution_count": 41,
     "metadata": {},
     "output_type": "execute_result"
    }
   ],
   "source": [
    "data.shape"
   ]
  },
  {
   "cell_type": "code",
   "execution_count": 42,
   "id": "9f75e218",
   "metadata": {},
   "outputs": [
    {
     "data": {
      "text/plain": [
       "array([[1, 1, 1, 1, 1, 1, 1, 1, 1, 1],\n",
       "       [1, 1, 1, 1, 1, 1, 1, 1, 1, 1],\n",
       "       [1, 1, 1, 1, 1, 1, 1, 1, 1, 1],\n",
       "       [1, 1, 1, 1, 1, 1, 1, 1, 1, 1],\n",
       "       [1, 1, 1, 1, 1, 1, 1, 1, 1, 1],\n",
       "       [1, 1, 1, 1, 1, 1, 1, 1, 1, 1],\n",
       "       [1, 1, 1, 1, 1, 1, 1, 1, 1, 1],\n",
       "       [1, 1, 1, 1, 1, 1, 1, 1, 1, 1],\n",
       "       [1, 1, 1, 1, 1, 1, 1, 1, 1, 1],\n",
       "       [1, 1, 1, 1, 1, 1, 1, 1, 1, 1]])"
      ]
     },
     "execution_count": 42,
     "metadata": {},
     "output_type": "execute_result"
    }
   ],
   "source": [
    "np.ones_like(data)"
   ]
  },
  {
   "cell_type": "code",
   "execution_count": 44,
   "id": "159941d6",
   "metadata": {},
   "outputs": [
    {
     "data": {
      "text/plain": [
       "array([[1., 1., 1., 1., 1., 1., 1., 1., 1., 1.],\n",
       "       [1., 1., 1., 1., 1., 1., 1., 1., 1., 1.],\n",
       "       [1., 1., 1., 1., 1., 1., 1., 1., 1., 1.],\n",
       "       [1., 1., 1., 1., 1., 1., 1., 1., 1., 1.],\n",
       "       [1., 1., 1., 1., 1., 1., 1., 1., 1., 1.],\n",
       "       [1., 1., 1., 1., 1., 1., 1., 1., 1., 1.],\n",
       "       [1., 1., 1., 1., 1., 1., 1., 1., 1., 1.],\n",
       "       [1., 1., 1., 1., 1., 1., 1., 1., 1., 1.],\n",
       "       [1., 1., 1., 1., 1., 1., 1., 1., 1., 1.],\n",
       "       [1., 1., 1., 1., 1., 1., 1., 1., 1., 1.]])"
      ]
     },
     "execution_count": 44,
     "metadata": {},
     "output_type": "execute_result"
    }
   ],
   "source": [
    "np.ones(data.shape)"
   ]
  },
  {
   "cell_type": "code",
   "execution_count": 52,
   "id": "1465cc0b",
   "metadata": {},
   "outputs": [
    {
     "data": {
      "text/plain": [
       "array([         0, 1080135680,          0, 1080340480,          0,\n",
       "       1080545280,          0, 1080750080,          0, 1080954880])"
      ]
     },
     "execution_count": 52,
     "metadata": {},
     "output_type": "execute_result"
    }
   ],
   "source": [
    "np.empty(10, dtype=int)"
   ]
  },
  {
   "cell_type": "code",
   "execution_count": 47,
   "id": "6e4856ab",
   "metadata": {},
   "outputs": [
    {
     "data": {
      "text/plain": [
       "array([[          0,           0,           0,           0,           0,\n",
       "                  0, -1298876128,       32762,          46,           0],\n",
       "       [-1006209040,         678, -1006208976,         678, -1006208848,\n",
       "                678, -1006208784,         678, -1006208656,         678],\n",
       "       [-1006208528,         678, -1006208400,         678, -1006208272,\n",
       "                678, -1006208208,         678, -1006208336,         678],\n",
       "       [-1006208144,         678, -1006208080,         678, -1006208016,\n",
       "                678, -1006207952,         678, -1006207888,         678],\n",
       "       [-1006207824,         678, -1006207760,         678, -1006207696,\n",
       "                678, -1006207632,         678, -1006207568,         678],\n",
       "       [-1006207504,         678, -1006207440,         678, -1006207376,\n",
       "                678, -1006207312,         678, -1006207248,         678],\n",
       "       [-1006207184,         678, -1006207120,         678, -1006207056,\n",
       "                678, -1006206928,         678, -1006206864,         678],\n",
       "       [-1006206800,         678, -1006206736,         678, -1006206672,\n",
       "                678, -1006206608,         678, -1006206544,         678],\n",
       "       [-1006206480,         678, -1006206416,         678, -1006206352,\n",
       "                678, -1006206288,         678, -1006206224,         678],\n",
       "       [-1006206160,         678, -1006206096,         678, -1006206032,\n",
       "                678, -1006205968,         678, -1006205904,         678]])"
      ]
     },
     "execution_count": 47,
     "metadata": {},
     "output_type": "execute_result"
    }
   ],
   "source": [
    "np.empty_like(data)"
   ]
  },
  {
   "cell_type": "markdown",
   "id": "6c7da26b",
   "metadata": {},
   "source": [
    "# 1-2 ,generate between 1 and 2, total equal steps 5\n"
   ]
  },
  {
   "cell_type": "code",
   "execution_count": 54,
   "id": "34126253",
   "metadata": {},
   "outputs": [
    {
     "data": {
      "text/plain": [
       "array([1.  , 1.25, 1.5 , 1.75, 2.  ])"
      ]
     },
     "execution_count": 54,
     "metadata": {},
     "output_type": "execute_result"
    }
   ],
   "source": [
    "np.linspace(1,2,5)"
   ]
  },
  {
   "cell_type": "code",
   "execution_count": 55,
   "id": "936df916",
   "metadata": {},
   "outputs": [
    {
     "data": {
      "text/plain": [
       "array([1.  , 1.25, 1.5 , 1.75, 2.  ])"
      ]
     },
     "execution_count": 55,
     "metadata": {},
     "output_type": "execute_result"
    }
   ],
   "source": [
    "np.arange(1,2.25,0.25)\n"
   ]
  },
  {
   "cell_type": "code",
   "execution_count": 56,
   "id": "e7cce916",
   "metadata": {},
   "outputs": [
    {
     "data": {
      "text/plain": [
       "array([1.        , 1.33333333, 1.66666667, 2.        ])"
      ]
     },
     "execution_count": 56,
     "metadata": {},
     "output_type": "execute_result"
    }
   ],
   "source": [
    "np.linspace(1,2,4)\n"
   ]
  },
  {
   "cell_type": "markdown",
   "id": "5d3069ee",
   "metadata": {},
   "source": [
    "# sorting\n"
   ]
  },
  {
   "cell_type": "code",
   "execution_count": 57,
   "id": "e2f97c57",
   "metadata": {},
   "outputs": [
    {
     "data": {
      "text/plain": [
       "array([ 8,  4,  2,  3,  1,  6,  9,  5,  7, 10])"
      ]
     },
     "execution_count": 57,
     "metadata": {},
     "output_type": "execute_result"
    }
   ],
   "source": [
    "d = np.array([8,4,2,3,1,6,9,5,7,10])\n",
    "d\n"
   ]
  },
  {
   "cell_type": "code",
   "execution_count": 58,
   "id": "0e8addbd",
   "metadata": {},
   "outputs": [
    {
     "data": {
      "text/plain": [
       "array([ 1,  2,  3,  4,  5,  6,  7,  8,  9, 10])"
      ]
     },
     "execution_count": 58,
     "metadata": {},
     "output_type": "execute_result"
    }
   ],
   "source": [
    "np.sort(d)"
   ]
  },
  {
   "cell_type": "code",
   "execution_count": 59,
   "id": "4cdf64e4",
   "metadata": {},
   "outputs": [
    {
     "data": {
      "text/plain": [
       "array([4, 2, 3, 1, 7, 5, 8, 0, 6, 9], dtype=int64)"
      ]
     },
     "execution_count": 59,
     "metadata": {},
     "output_type": "execute_result"
    }
   ],
   "source": [
    "np.argsort(d)"
   ]
  },
  {
   "cell_type": "code",
   "execution_count": 60,
   "id": "fa421440",
   "metadata": {},
   "outputs": [
    {
     "ename": "AttributeError",
     "evalue": "'numpy.ndarray' object has no attribute 'search'",
     "output_type": "error",
     "traceback": [
      "\u001b[1;31m---------------------------------------------------------------------------\u001b[0m",
      "\u001b[1;31mAttributeError\u001b[0m                            Traceback (most recent call last)",
      "Input \u001b[1;32mIn [60]\u001b[0m, in \u001b[0;36m<cell line: 1>\u001b[1;34m()\u001b[0m\n\u001b[1;32m----> 1\u001b[0m \u001b[43md\u001b[49m\u001b[38;5;241;43m.\u001b[39;49m\u001b[43msearch\u001b[49m\u001b[38;5;241m.\u001b[39msorted(\u001b[38;5;241m11\u001b[39m)\n",
      "\u001b[1;31mAttributeError\u001b[0m: 'numpy.ndarray' object has no attribute 'search'"
     ]
    }
   ],
   "source": [
    "d.search.sorted(11)"
   ]
  },
  {
   "cell_type": "code",
   "execution_count": 61,
   "id": "f6b3f2af",
   "metadata": {},
   "outputs": [
    {
     "data": {
      "text/plain": [
       "[(0, 8),\n",
       " (1, 4),\n",
       " (2, 2),\n",
       " (3, 3),\n",
       " (4, 1),\n",
       " (5, 6),\n",
       " (6, 9),\n",
       " (7, 5),\n",
       " (8, 7),\n",
       " (9, 10)]"
      ]
     },
     "execution_count": 61,
     "metadata": {},
     "output_type": "execute_result"
    }
   ],
   "source": [
    "list(enumerate([ 8 , 4,  2,  3,  1,  6,  9,  5,  7, 10]))\n"
   ]
  },
  {
   "cell_type": "code",
   "execution_count": 62,
   "id": "845926cb",
   "metadata": {},
   "outputs": [
    {
     "name": "stdout",
     "output_type": "stream",
     "text": [
      "raw d values [ 8  4  2  3  1  6  9  5  7 10]\n"
     ]
    },
    {
     "data": {
      "text/plain": [
       "array([4, 2, 3, 1, 7, 5, 8, 0, 6, 9], dtype=int64)"
      ]
     },
     "execution_count": 62,
     "metadata": {},
     "output_type": "execute_result"
    }
   ],
   "source": [
    "print(\"raw d values\",d)\n",
    "np.argsort(d)\n"
   ]
  },
  {
   "cell_type": "code",
   "execution_count": 63,
   "id": "fbae2971",
   "metadata": {},
   "outputs": [
    {
     "data": {
      "text/plain": [
       "10"
      ]
     },
     "execution_count": 63,
     "metadata": {},
     "output_type": "execute_result"
    }
   ],
   "source": [
    "d = np.array([8,4,2,3,1,6,9,5,7,10])\n",
    "d.searchsorted(11)\n"
   ]
  },
  {
   "cell_type": "code",
   "execution_count": 64,
   "id": "24198027",
   "metadata": {},
   "outputs": [
    {
     "name": "stdout",
     "output_type": "stream",
     "text": [
      "a [1 2 3 4]\n",
      "b [5 6 7 8]\n"
     ]
    },
    {
     "data": {
      "text/plain": [
       "array([1, 2, 3, 4, 5, 6, 7, 8])"
      ]
     },
     "execution_count": 64,
     "metadata": {},
     "output_type": "execute_result"
    }
   ],
   "source": [
    "a = np.array([1, 2, 3, 4])\n",
    "b = np.array([5, 6, 7, 8])\n",
    "print(\"a\",a)\n",
    "print(\"b\",b)\n",
    "np.concatenate((a,b))\n"
   ]
  },
  {
   "cell_type": "code",
   "execution_count": 65,
   "id": "7e3f88bd",
   "metadata": {},
   "outputs": [
    {
     "name": "stdout",
     "output_type": "stream",
     "text": [
      "a [1 2 3 4]\n",
      "b [5 6 7 8]\n"
     ]
    },
    {
     "data": {
      "text/plain": [
       "array([[1, 2, 3, 4],\n",
       "       [5, 6, 7, 8]])"
      ]
     },
     "execution_count": 65,
     "metadata": {},
     "output_type": "execute_result"
    }
   ],
   "source": [
    "a = np.array([1, 2, 3, 4])\n",
    "b = np.array([5, 6, 7, 8])\n",
    "print(\"a\",a)\n",
    "print(\"b\",b)\n",
    "np.vstack((a,b))\n"
   ]
  },
  {
   "cell_type": "code",
   "execution_count": 66,
   "id": "625dd4d7",
   "metadata": {},
   "outputs": [
    {
     "name": "stdout",
     "output_type": "stream",
     "text": [
      "a [1 2 3 4]\n",
      "b [5 6 7 8]\n"
     ]
    },
    {
     "data": {
      "text/plain": [
       "array([1, 2, 3, 4, 5, 6, 7, 8])"
      ]
     },
     "execution_count": 66,
     "metadata": {},
     "output_type": "execute_result"
    }
   ],
   "source": [
    "a = np.array([1, 2, 3, 4])\n",
    "b = np.array([5, 6, 7, 8])\n",
    "print(\"a\",a)\n",
    "print(\"b\",b)\n",
    "np.hstack((a,b))\n"
   ]
  },
  {
   "cell_type": "code",
   "execution_count": 67,
   "id": "3d7acbef",
   "metadata": {},
   "outputs": [
    {
     "name": "stdout",
     "output_type": "stream",
     "text": [
      "a [1 2 3 4]\n",
      "b [5 6 7 8]\n"
     ]
    },
    {
     "data": {
      "text/plain": [
       "array([[1, 2, 3, 4],\n",
       "       [5, 6, 7, 8]])"
      ]
     },
     "execution_count": 67,
     "metadata": {},
     "output_type": "execute_result"
    }
   ],
   "source": [
    "a = np.array([1, 2, 3, 4])\n",
    "b = np.array([5, 6, 7, 8])\n",
    "print(\"a\",a)\n",
    "print(\"b\",b)\n",
    "np.stack((a,b),axis=0)\n"
   ]
  },
  {
   "cell_type": "code",
   "execution_count": 68,
   "id": "2750ee1a",
   "metadata": {},
   "outputs": [
    {
     "data": {
      "text/plain": [
       "array([[1, 5],\n",
       "       [2, 6],\n",
       "       [3, 7],\n",
       "       [4, 8]])"
      ]
     },
     "execution_count": 68,
     "metadata": {},
     "output_type": "execute_result"
    }
   ],
   "source": [
    "np.stack((a,b),axis=1)\n"
   ]
  },
  {
   "cell_type": "code",
   "execution_count": 69,
   "id": "04a7a182",
   "metadata": {},
   "outputs": [
    {
     "data": {
      "text/plain": [
       "array([1, 4])"
      ]
     },
     "execution_count": 69,
     "metadata": {},
     "output_type": "execute_result"
    }
   ],
   "source": [
    "a = np.array([1, 2, 3, 4])\n",
    "a[[True, False, False, True]]\n"
   ]
  },
  {
   "cell_type": "markdown",
   "id": "474ae82a",
   "metadata": {},
   "source": [
    "# np.in1d\n"
   ]
  },
  {
   "cell_type": "code",
   "execution_count": 70,
   "id": "fdaae296",
   "metadata": {},
   "outputs": [
    {
     "data": {
      "text/plain": [
       "array([ 1,  2,  3,  4,  5,  6,  7,  8,  9, 10])"
      ]
     },
     "execution_count": 70,
     "metadata": {},
     "output_type": "execute_result"
    }
   ],
   "source": [
    "bank_cnic = np.arange(1,11)\n",
    "bank_cnic"
   ]
  },
  {
   "cell_type": "code",
   "execution_count": 71,
   "id": "9668dfdb",
   "metadata": {},
   "outputs": [
    {
     "data": {
      "text/plain": [
       "array([100,  75,   7,  20, 125,   3])"
      ]
     },
     "execution_count": 71,
     "metadata": {},
     "output_type": "execute_result"
    }
   ],
   "source": [
    "state_bank = np.array([100,75,7, 20, 125, 3])\n",
    "state_bank\n"
   ]
  },
  {
   "cell_type": "code",
   "execution_count": 72,
   "id": "caeea668",
   "metadata": {},
   "outputs": [
    {
     "data": {
      "text/plain": [
       "array([False, False,  True, False, False,  True])"
      ]
     },
     "execution_count": 72,
     "metadata": {},
     "output_type": "execute_result"
    }
   ],
   "source": [
    "np.in1d(state_bank, bank_cnic)"
   ]
  },
  {
   "cell_type": "code",
   "execution_count": 73,
   "id": "6ce567b5",
   "metadata": {},
   "outputs": [
    {
     "data": {
      "text/plain": [
       "array([7, 3])"
      ]
     },
     "execution_count": 73,
     "metadata": {},
     "output_type": "execute_result"
    }
   ],
   "source": [
    "state_bank[np.in1d(state_bank, bank_cnic)]\n"
   ]
  },
  {
   "cell_type": "code",
   "execution_count": 74,
   "id": "969d30d2",
   "metadata": {},
   "outputs": [
    {
     "data": {
      "text/plain": [
       "array([3, 7])"
      ]
     },
     "execution_count": 74,
     "metadata": {},
     "output_type": "execute_result"
    }
   ],
   "source": [
    "np.intersect1d(state_bank,bank_cnic)\n"
   ]
  },
  {
   "cell_type": "markdown",
   "id": "1903ea2e",
   "metadata": {},
   "source": [
    "# task\n"
   ]
  },
  {
   "cell_type": "code",
   "execution_count": 75,
   "id": "c4cb1f0e",
   "metadata": {},
   "outputs": [
    {
     "data": {
      "text/plain": [
       "array([[ 0,  1,  2,  3,  4],\n",
       "       [ 5,  6,  7,  8,  9],\n",
       "       [10, 11, 12, 13, 14],\n",
       "       [15, 16, 17, 18, 19],\n",
       "       [20, 21, 22, 23, 24],\n",
       "       [25, 26, 27, 28, 29],\n",
       "       [30, 31, 32, 33, 34],\n",
       "       [35, 36, 37, 38, 39],\n",
       "       [40, 41, 42, 43, 44],\n",
       "       [45, 46, 47, 48, 49],\n",
       "       [50, 51, 52, 53, 54],\n",
       "       [55, 56, 57, 58, 59],\n",
       "       [60, 61, 62, 63, 64],\n",
       "       [65, 66, 67, 68, 69],\n",
       "       [70, 71, 72, 73, 74],\n",
       "       [75, 76, 77, 78, 79],\n",
       "       [80, 81, 82, 83, 84],\n",
       "       [85, 86, 87, 88, 89],\n",
       "       [90, 91, 92, 93, 94],\n",
       "       [95, 96, 97, 98, 99]])"
      ]
     },
     "execution_count": 75,
     "metadata": {},
     "output_type": "execute_result"
    }
   ],
   "source": [
    "a = np.arange(20*5).reshape((20,5))\n",
    "a\n"
   ]
  },
  {
   "cell_type": "code",
   "execution_count": 76,
   "id": "9c3f41b1",
   "metadata": {},
   "outputs": [
    {
     "data": {
      "text/plain": [
       "array([[ True, False, False,  True, False],\n",
       "       [False,  True, False, False,  True],\n",
       "       [False, False,  True, False, False],\n",
       "       [ True, False, False,  True, False],\n",
       "       [False,  True, False, False,  True],\n",
       "       [False, False,  True, False, False],\n",
       "       [ True, False, False,  True, False],\n",
       "       [False,  True, False, False,  True],\n",
       "       [False, False,  True, False, False],\n",
       "       [ True, False, False,  True, False],\n",
       "       [False,  True, False, False,  True],\n",
       "       [False, False,  True, False, False],\n",
       "       [ True, False, False,  True, False],\n",
       "       [False,  True, False, False,  True],\n",
       "       [False, False,  True, False, False],\n",
       "       [ True, False, False,  True, False],\n",
       "       [False,  True, False, False,  True],\n",
       "       [False, False,  True, False, False],\n",
       "       [ True, False, False,  True, False],\n",
       "       [False,  True, False, False,  True]])"
      ]
     },
     "execution_count": 76,
     "metadata": {},
     "output_type": "execute_result"
    }
   ],
   "source": [
    "a % 3 == 0\n"
   ]
  },
  {
   "cell_type": "code",
   "execution_count": 77,
   "id": "e32dee0f",
   "metadata": {},
   "outputs": [
    {
     "data": {
      "text/plain": [
       "array([ 0,  3,  6,  9, 12, 15, 18, 21, 24, 27, 30, 33, 36, 39, 42, 45, 48,\n",
       "       51, 54, 57, 60, 63, 66, 69, 72, 75, 78, 81, 84, 87, 90, 93, 96, 99])"
      ]
     },
     "execution_count": 77,
     "metadata": {},
     "output_type": "execute_result"
    }
   ],
   "source": [
    "a[a % 3 == 0]\n"
   ]
  },
  {
   "cell_type": "code",
   "execution_count": 78,
   "id": "7e123d24",
   "metadata": {},
   "outputs": [
    {
     "data": {
      "text/plain": [
       "array([[ True, False, False, False, False],\n",
       "       [False, False, False, False, False],\n",
       "       [False, False, False, False, False],\n",
       "       [ True, False, False, False, False],\n",
       "       [False, False, False, False, False],\n",
       "       [False, False, False, False, False],\n",
       "       [ True, False, False, False, False],\n",
       "       [False, False, False, False, False],\n",
       "       [False, False, False, False, False],\n",
       "       [ True, False, False, False, False],\n",
       "       [False, False, False, False, False],\n",
       "       [False, False, False, False, False],\n",
       "       [ True, False, False, False, False],\n",
       "       [False, False, False, False, False],\n",
       "       [False, False, False, False, False],\n",
       "       [ True, False, False, False, False],\n",
       "       [False, False, False, False, False],\n",
       "       [False, False, False, False, False],\n",
       "       [ True, False, False, False, False],\n",
       "       [False, False, False, False, False]])"
      ]
     },
     "execution_count": 78,
     "metadata": {},
     "output_type": "execute_result"
    }
   ],
   "source": [
    "(a % 3 == 0 ) & (a % 5 == 0)\n"
   ]
  },
  {
   "cell_type": "code",
   "execution_count": 79,
   "id": "7da77840",
   "metadata": {},
   "outputs": [
    {
     "data": {
      "text/plain": [
       "array([ 0, 15, 30, 45, 60, 75, 90])"
      ]
     },
     "execution_count": 79,
     "metadata": {},
     "output_type": "execute_result"
    }
   ],
   "source": [
    "a[(a % 3 == 0 ) & (a % 5 == 0)]\n"
   ]
  },
  {
   "cell_type": "code",
   "execution_count": 80,
   "id": "25c915da",
   "metadata": {},
   "outputs": [
    {
     "data": {
      "text/plain": [
       "array([ 0, 30, 60, 90])"
      ]
     },
     "execution_count": 80,
     "metadata": {},
     "output_type": "execute_result"
    }
   ],
   "source": [
    "a[(a % 3 == 0 ) & (a % 5 == 0) & (a % 6 == 0)]\n"
   ]
  },
  {
   "cell_type": "code",
   "execution_count": 81,
   "id": "a882f96d",
   "metadata": {},
   "outputs": [
    {
     "name": "stdout",
     "output_type": "stream",
     "text": [
      "[ 0  1  2  3  4  5  6  7  8  9 10]\n"
     ]
    },
    {
     "data": {
      "text/plain": [
       "array([ True,  True,  True,  True,  True, False, False, False, False,\n",
       "       False, False])"
      ]
     },
     "execution_count": 81,
     "metadata": {},
     "output_type": "execute_result"
    }
   ],
   "source": [
    "b = np.arange(11)\n",
    "print(b)\n",
    "b < 5\n"
   ]
  },
  {
   "cell_type": "code",
   "execution_count": 82,
   "id": "d4678288",
   "metadata": {},
   "outputs": [
    {
     "name": "stdout",
     "output_type": "stream",
     "text": [
      "[ 0  1  2  3  4  5  6  7  8  9 10]\n"
     ]
    },
    {
     "data": {
      "text/plain": [
       "array([0, 1, 0, 1, 0, 1, 0, 1, 0, 1, 0], dtype=int32)"
      ]
     },
     "execution_count": 82,
     "metadata": {},
     "output_type": "execute_result"
    }
   ],
   "source": [
    "b = np.arange(11)\n",
    "print(b)\n",
    "b % 2\n"
   ]
  },
  {
   "cell_type": "code",
   "execution_count": 83,
   "id": "e47bcec1",
   "metadata": {},
   "outputs": [
    {
     "name": "stdout",
     "output_type": "stream",
     "text": [
      "[ 0  1  2  3  4  5  6  7  8  9 10]\n"
     ]
    },
    {
     "data": {
      "text/plain": [
       "array([ True, False,  True, False,  True, False,  True, False,  True,\n",
       "       False,  True])"
      ]
     },
     "execution_count": 83,
     "metadata": {},
     "output_type": "execute_result"
    }
   ],
   "source": [
    "b = np.arange(11)\n",
    "print(b)\n",
    "b % 2 == 0\n"
   ]
  },
  {
   "cell_type": "code",
   "execution_count": 84,
   "id": "66dc625c",
   "metadata": {},
   "outputs": [
    {
     "data": {
      "text/plain": [
       "array([1, 3, 5, 7, 9])"
      ]
     },
     "execution_count": 84,
     "metadata": {},
     "output_type": "execute_result"
    }
   ],
   "source": [
    "b[~(b % 2 == 0)]\n"
   ]
  },
  {
   "cell_type": "code",
   "execution_count": 85,
   "id": "05299f4a",
   "metadata": {},
   "outputs": [
    {
     "data": {
      "text/plain": [
       "array([ 0,  2,  4,  6,  8, 10])"
      ]
     },
     "execution_count": 85,
     "metadata": {},
     "output_type": "execute_result"
    }
   ],
   "source": [
    "b[b % 2 == 0]\n"
   ]
  },
  {
   "cell_type": "markdown",
   "id": "aaabd78e",
   "metadata": {},
   "source": [
    "# attendance\n"
   ]
  },
  {
   "cell_type": "code",
   "execution_count": 86,
   "id": "ccf10907",
   "metadata": {},
   "outputs": [
    {
     "name": "stdout",
     "output_type": "stream",
     "text": [
      "88\n",
      "56\n"
     ]
    },
    {
     "data": {
      "text/html": [
       "<div>\n",
       "<style scoped>\n",
       "    .dataframe tbody tr th:only-of-type {\n",
       "        vertical-align: middle;\n",
       "    }\n",
       "\n",
       "    .dataframe tbody tr th {\n",
       "        vertical-align: top;\n",
       "    }\n",
       "\n",
       "    .dataframe thead th {\n",
       "        text-align: right;\n",
       "    }\n",
       "</style>\n",
       "<table border=\"1\" class=\"dataframe\">\n",
       "  <thead>\n",
       "    <tr style=\"text-align: right;\">\n",
       "      <th></th>\n",
       "      <th>CNIC</th>\n",
       "    </tr>\n",
       "  </thead>\n",
       "  <tbody>\n",
       "    <tr>\n",
       "      <th>0</th>\n",
       "      <td>4210164790696</td>\n",
       "    </tr>\n",
       "    <tr>\n",
       "      <th>1</th>\n",
       "      <td>4210120075463</td>\n",
       "    </tr>\n",
       "    <tr>\n",
       "      <th>2</th>\n",
       "      <td>4220113316709</td>\n",
       "    </tr>\n",
       "    <tr>\n",
       "      <th>3</th>\n",
       "      <td>4210175076663</td>\n",
       "    </tr>\n",
       "    <tr>\n",
       "      <th>4</th>\n",
       "      <td>4240118801065</td>\n",
       "    </tr>\n",
       "    <tr>\n",
       "      <th>5</th>\n",
       "      <td>4410242997959</td>\n",
       "    </tr>\n",
       "    <tr>\n",
       "      <th>6</th>\n",
       "      <td>4230189725317</td>\n",
       "    </tr>\n",
       "    <tr>\n",
       "      <th>7</th>\n",
       "      <td>4210103553847</td>\n",
       "    </tr>\n",
       "    <tr>\n",
       "      <th>8</th>\n",
       "      <td>4210115022744</td>\n",
       "    </tr>\n",
       "    <tr>\n",
       "      <th>9</th>\n",
       "      <td>4210156195059</td>\n",
       "    </tr>\n",
       "    <tr>\n",
       "      <th>10</th>\n",
       "      <td>4210170238438</td>\n",
       "    </tr>\n",
       "    <tr>\n",
       "      <th>11</th>\n",
       "      <td>3130399221225</td>\n",
       "    </tr>\n",
       "    <tr>\n",
       "      <th>12</th>\n",
       "      <td>4220122868467</td>\n",
       "    </tr>\n",
       "    <tr>\n",
       "      <th>13</th>\n",
       "      <td>4210145447712</td>\n",
       "    </tr>\n",
       "    <tr>\n",
       "      <th>14</th>\n",
       "      <td>4220165351957</td>\n",
       "    </tr>\n",
       "    <tr>\n",
       "      <th>15</th>\n",
       "      <td>4220169252467</td>\n",
       "    </tr>\n",
       "    <tr>\n",
       "      <th>16</th>\n",
       "      <td>4210183427183</td>\n",
       "    </tr>\n",
       "    <tr>\n",
       "      <th>17</th>\n",
       "      <td>4210134163079</td>\n",
       "    </tr>\n",
       "    <tr>\n",
       "      <th>18</th>\n",
       "      <td>4250144488545</td>\n",
       "    </tr>\n",
       "    <tr>\n",
       "      <th>19</th>\n",
       "      <td>4220156089133</td>\n",
       "    </tr>\n",
       "    <tr>\n",
       "      <th>20</th>\n",
       "      <td>4210182767349</td>\n",
       "    </tr>\n",
       "    <tr>\n",
       "      <th>21</th>\n",
       "      <td>4250119167549</td>\n",
       "    </tr>\n",
       "    <tr>\n",
       "      <th>22</th>\n",
       "      <td>4250105286907</td>\n",
       "    </tr>\n",
       "    <tr>\n",
       "      <th>23</th>\n",
       "      <td>4230123126547</td>\n",
       "    </tr>\n",
       "    <tr>\n",
       "      <th>24</th>\n",
       "      <td>4250106544552</td>\n",
       "    </tr>\n",
       "    <tr>\n",
       "      <th>25</th>\n",
       "      <td>5440047459326</td>\n",
       "    </tr>\n",
       "    <tr>\n",
       "      <th>26</th>\n",
       "      <td>4250110257001</td>\n",
       "    </tr>\n",
       "    <tr>\n",
       "      <th>27</th>\n",
       "      <td>4220104505899</td>\n",
       "    </tr>\n",
       "    <tr>\n",
       "      <th>28</th>\n",
       "      <td>4210124609792</td>\n",
       "    </tr>\n",
       "    <tr>\n",
       "      <th>29</th>\n",
       "      <td>4250125987808</td>\n",
       "    </tr>\n",
       "    <tr>\n",
       "      <th>30</th>\n",
       "      <td>4220140225263</td>\n",
       "    </tr>\n",
       "    <tr>\n",
       "      <th>31</th>\n",
       "      <td>4210146436547</td>\n",
       "    </tr>\n",
       "    <tr>\n",
       "      <th>32</th>\n",
       "      <td>4250164941763</td>\n",
       "    </tr>\n",
       "    <tr>\n",
       "      <th>33</th>\n",
       "      <td>4230199459921</td>\n",
       "    </tr>\n",
       "    <tr>\n",
       "      <th>34</th>\n",
       "      <td>4230139662957</td>\n",
       "    </tr>\n",
       "    <tr>\n",
       "      <th>35</th>\n",
       "      <td>4220101410369</td>\n",
       "    </tr>\n",
       "    <tr>\n",
       "      <th>36</th>\n",
       "      <td>4210133115704</td>\n",
       "    </tr>\n",
       "    <tr>\n",
       "      <th>37</th>\n",
       "      <td>4250189782769</td>\n",
       "    </tr>\n",
       "    <tr>\n",
       "      <th>38</th>\n",
       "      <td>4420626938874</td>\n",
       "    </tr>\n",
       "    <tr>\n",
       "      <th>39</th>\n",
       "      <td>4210129511133</td>\n",
       "    </tr>\n",
       "    <tr>\n",
       "      <th>40</th>\n",
       "      <td>4220159083880</td>\n",
       "    </tr>\n",
       "    <tr>\n",
       "      <th>41</th>\n",
       "      <td>4210113863591</td>\n",
       "    </tr>\n",
       "    <tr>\n",
       "      <th>42</th>\n",
       "      <td>4220113823383</td>\n",
       "    </tr>\n",
       "    <tr>\n",
       "      <th>43</th>\n",
       "      <td>4250191411023</td>\n",
       "    </tr>\n",
       "    <tr>\n",
       "      <th>44</th>\n",
       "      <td>4230108335683</td>\n",
       "    </tr>\n",
       "    <tr>\n",
       "      <th>45</th>\n",
       "      <td>3520269403788</td>\n",
       "    </tr>\n",
       "    <tr>\n",
       "      <th>46</th>\n",
       "      <td>4210141137977</td>\n",
       "    </tr>\n",
       "    <tr>\n",
       "      <th>47</th>\n",
       "      <td>4220172475489</td>\n",
       "    </tr>\n",
       "    <tr>\n",
       "      <th>48</th>\n",
       "      <td>4240128161338</td>\n",
       "    </tr>\n",
       "    <tr>\n",
       "      <th>49</th>\n",
       "      <td>4220105630741</td>\n",
       "    </tr>\n",
       "    <tr>\n",
       "      <th>50</th>\n",
       "      <td>4210151751811</td>\n",
       "    </tr>\n",
       "    <tr>\n",
       "      <th>51</th>\n",
       "      <td>4210107768583</td>\n",
       "    </tr>\n",
       "    <tr>\n",
       "      <th>52</th>\n",
       "      <td>4200052746960</td>\n",
       "    </tr>\n",
       "    <tr>\n",
       "      <th>53</th>\n",
       "      <td>4250104502069</td>\n",
       "    </tr>\n",
       "    <tr>\n",
       "      <th>54</th>\n",
       "      <td>5140176791651</td>\n",
       "    </tr>\n",
       "    <tr>\n",
       "      <th>55</th>\n",
       "      <td>4240160019477</td>\n",
       "    </tr>\n",
       "  </tbody>\n",
       "</table>\n",
       "</div>"
      ],
      "text/plain": [
       "             CNIC\n",
       "0   4210164790696\n",
       "1   4210120075463\n",
       "2   4220113316709\n",
       "3   4210175076663\n",
       "4   4240118801065\n",
       "5   4410242997959\n",
       "6   4230189725317\n",
       "7   4210103553847\n",
       "8   4210115022744\n",
       "9   4210156195059\n",
       "10  4210170238438\n",
       "11  3130399221225\n",
       "12  4220122868467\n",
       "13  4210145447712\n",
       "14  4220165351957\n",
       "15  4220169252467\n",
       "16  4210183427183\n",
       "17  4210134163079\n",
       "18  4250144488545\n",
       "19  4220156089133\n",
       "20  4210182767349\n",
       "21  4250119167549\n",
       "22  4250105286907\n",
       "23  4230123126547\n",
       "24  4250106544552\n",
       "25  5440047459326\n",
       "26  4250110257001\n",
       "27  4220104505899\n",
       "28  4210124609792\n",
       "29  4250125987808\n",
       "30  4220140225263\n",
       "31  4210146436547\n",
       "32  4250164941763\n",
       "33  4230199459921\n",
       "34  4230139662957\n",
       "35  4220101410369\n",
       "36  4210133115704\n",
       "37  4250189782769\n",
       "38  4420626938874\n",
       "39  4210129511133\n",
       "40  4220159083880\n",
       "41  4210113863591\n",
       "42  4220113823383\n",
       "43  4250191411023\n",
       "44  4230108335683\n",
       "45  3520269403788\n",
       "46  4210141137977\n",
       "47  4220172475489\n",
       "48  4240128161338\n",
       "49  4220105630741\n",
       "50  4210151751811\n",
       "51  4210107768583\n",
       "52  4200052746960\n",
       "53  4250104502069\n",
       "54  5140176791651\n",
       "55  4240160019477"
      ]
     },
     "execution_count": 86,
     "metadata": {},
     "output_type": "execute_result"
    }
   ],
   "source": [
    "x = \"\"\"\n",
    "Muhammad Atique Qayyum2:01 PM\n",
    "yes can hear you clearly\n",
    "Syed Ammad Waheed2:07 PM\n",
    "syed ammad waheed hassani 4210113863591\n",
    "Mohsin Kanani2:08 PM\n",
    "4230108335683\n",
    "Muhammad faizan Farooque2:08 PM\n",
    "4230139662957\n",
    "Zeeshan Javed2:08 PM\n",
    "4230189725317\n",
    "Afnan Ali2:08 PM\n",
    "Muhammad Afnan Ali Khan 4210146436547\n",
    "Wasiq Gt2:08 PM\n",
    "4250104502069\n",
    "Syed Rafiq ul Hoda2:09 PM\n",
    "4210107768583\n",
    "Abdul Samad Siddiqui2:09 PM\n",
    "4250164941763\n",
    "Saba Naz2:09 PM\n",
    "42501-2598780-8\n",
    "Muhammad Ali Syed Sadiqullah2:09 PM\n",
    "42501-0528690-7\n",
    "Hassan Ahmed2:09 PM\n",
    "4220156089133\n",
    "Qazi Moawiz2:09 PM\n",
    "3130399221225\n",
    "Khawar Masood2:09 PM\n",
    "42101-4113797-7\n",
    "syed daniyal Ejaz2:09 PM\n",
    "please speak loud sir\n",
    "Mushyada Ali2:09 PM\n",
    "4210103553847\n",
    "Dewan S Khan2:09 PM\n",
    "4220105630741\n",
    "Muhammad Ayaz2:09 PM\n",
    "4410242997959\n",
    "Rahat Qayoum EB20_110 (20102110)2:10 PM\n",
    "4240128161338\n",
    "Tatheer Fatima2:10 PM\n",
    "4210124609792\n",
    "Nofil Ahmed2:10 PM\n",
    "4210175076663\n",
    "Hassan Khan2:10 PM\n",
    "4240160019477\n",
    "Sumayya Kamran EB20_125 (EB20102125)2:10 PM\n",
    "42501-0654455-2\n",
    "syed daniyal Ejaz2:10 PM\n",
    "4250189782769\n",
    "manal khan2:10 PM\n",
    "4210170238438\n",
    "Sania Tehseen2:11 PM\n",
    "4210115022744\n",
    "Muhammad Sameer2:13 PM\n",
    "4250110257001\n",
    "zain abidi2:15 PM\n",
    "4250119167549\n",
    "syed daniyal Ejaz2:22 PM\n",
    "voice issue sir please speak load sir thanks\n",
    "Loud*\n",
    "Muneeb Ahmed2:22 PM\n",
    "42101-8342718-3\n",
    "Afnan Ali2:22 PM\n",
    "sahi arhi ha awaz\n",
    "Muhammad Atique Qayyum2:22 PM\n",
    "your voice is clear to me\n",
    "Khawar Masood2:23 PM\n",
    "voice is so clear sir\n",
    "Dewan S Khan2:23 PM\n",
    "sir plz again\n",
    "Muhammad Atique Qayyum2:33 PM\n",
    "sir to much distortion\n",
    "Munir Ali2:33 PM\n",
    "distortion in voice sir\n",
    "Mushyada Ali2:33 PM\n",
    "your voice is breaking\n",
    "Muneeb Ahmed2:34 PM\n",
    "voice distortion\n",
    "Muhammad Atique Qayyum2:34 PM\n",
    "yes still breaking\n",
    "no\n",
    "Wasiq Gt2:35 PM\n",
    "yes\n",
    "Muhammad Ayaz2:35 PM\n",
    "yes sir\n",
    "Hassan Khan2:35 PM\n",
    "Yes sir\n",
    "Ad Khan2:38 PM\n",
    "Muhammad Adnan Khan 4220113823383\n",
    "Syed Usama Shahzad2:38 PM\n",
    "4210134163079\n",
    "Khawar Masood2:40 PM\n",
    "no voice from your side sir\n",
    "Muhammad faizan Farooque2:40 PM\n",
    "no voice\n",
    "Muhammad Atique Qayyum2:40 PM\n",
    "can't hear you sir\n",
    "Shakir Hussain2:42 PM\n",
    "Sir your screen is not shared\n",
    "Rozina Mazhar Ali2:42 PM\n",
    "it is shared\n",
    "Muhammad faizan Farooque2:42 PM\n",
    "it is shared and visible\n",
    "Shakir Hussain2:43 PM\n",
    "It's shared now\n",
    "Syed Kashif2:50 PM\n",
    "42501-4448854-5\n",
    "Rozina Mazhar Ali2:51 PM\n",
    "4220159083880\n",
    "Faiza Asad2:51 PM\n",
    "4200052746960\n",
    "Muneeb Ahmed2:57 PM\n",
    "42101-8342718-3\\\n",
    "Tabish sheikh3:22 PM\n",
    "4210129511133\n",
    "usman ahmad3:22 PM\n",
    "4220113316709\n",
    "Arsalan Ahmed3:22 PM\n",
    "4220165351957\n",
    "Syed Tanveer3:22 PM\n",
    "4220169252467\n",
    "Muhammad faizan Farooque3:22 PM\n",
    "4230139662957\n",
    "Shakir Hussain3:22 PM\n",
    "4210182767349\n",
    "Zeeshan Naqvi3:23 PM\n",
    "4210151751811\n",
    "Rao Taha3:23 PM\n",
    "4220172475489\n",
    "Khizra Rizvi3:24 PM\n",
    "5440047459326\n",
    "Zahid Bashir3:24 PM\n",
    "4250191411023\n",
    "HAREEM RIZVI3:26 PM\n",
    "42101-3311570-4\n",
    "Syed Ali3:26 PM\n",
    "Syed Masroor Ali 42401-1880106-5\n",
    "Syed Usama Shahzad3:35 PM\n",
    "4210134163079\n",
    "Syed Kashif3:37 PM\n",
    "42501-4448854-5\n",
    "Tariq Mehmood3:38 PM\n",
    "4220104505899\n",
    "Hassan Khan3:38 PM\n",
    "4240160019477\n",
    "Mohsin Kanani3:38 PM\n",
    "4230108335683\n",
    "Dewan S Khan3:45 PM\n",
    "4220105630741\n",
    "Shoaib Abdul Razzaque3:46 PM\n",
    "5140176791651\n",
    "Syed Usama Shahzad3:49 PM\n",
    "4210134163079\n",
    "Bilal Ahmed3:50 PM\n",
    "4210120075463\n",
    "Muhammad Sameer3:53 PM\n",
    "No sir\n",
    "Syed Usama Shahzad3:57 PM\n",
    "4210134163079\n",
    "Nazneen Akram3:57 PM\n",
    "4210145447712\n",
    "Bilal Ahmed3:57 PM\n",
    "4210120075463\n",
    "Munir Ali3:57 PM\n",
    "4220101410369\n",
    "Zareen Fatima3:57 PM\n",
    "3520269403788\n",
    "Muhammad Atique Qayyum3:57 PM\n",
    "4220140225263\n",
    "Wasiq Gt3:57 PM\n",
    "4250104502069\n",
    "Haris Chhipa3:57 PM\n",
    "4210156195059\n",
    "Qazi Moawiz3:57 PM\n",
    "3130399221225\n",
    "Shakir Hussain3:57 PM\n",
    "4210182767349\n",
    "Dewan S Khan3:57 PM\n",
    "4220105630741\n",
    "Yusra Adnan3:57 PM\n",
    "4210164790696\n",
    "Syed Ali3:57 PM\n",
    "Syed Masroor Ali, 42401-1880106-5\n",
    "Zeeshan Naqvi3:58 PM\n",
    "4210151751811\n",
    "Nazneen Akram3:58 PM\n",
    "4210145447712\n",
    "Syed Rafiq ul Hoda3:58 PM\n",
    "4210107768583\n",
    "Syed Muhammad Abdullah3:58 PM\n",
    "4220122868467 Syed Muhammad Abdullah\n",
    "Hassan Khan3:58 PM\n",
    "4240160019477\n",
    "Muhammad Ayaz3:58 PM\n",
    "4410242997959\n",
    "Zeeshan Javed3:58 PM\n",
    "4230189725317\n",
    "Asima Ali3:58 PM\n",
    "4420626938874\n",
    "Faiza Asad3:58 PM\n",
    "4200052746960\n",
    "Syed Tanveer3:58 PM\n",
    "4220169252467\n",
    "Tabassum Ali3:58 PM\n",
    "4230123126547\n",
    "Shoaib Abdul Razzaque3:58 PM\n",
    "5140176791651\n",
    "Fazal Diyan3:58 PM\n",
    "42301-9945992-1\n",
    "Sania Tehseen3:58 PM\n",
    "4210115022744\n",
    "Sumayya Kamran EB20_125 (EB20102125)3:58 PM\n",
    "4250106544552\n",
    "Muhammad Sameer3:58 PM\n",
    "4250110257001\n",
    "Muhammad Ali Syed Sadiqullah3:58 PM\n",
    "4250105286907\n",
    "Shakir Hussain3:58 PM\n",
    "4210182767349\n",
    "Mushyada Ali3:59 PM\n",
    "4210103553847\n",
    "manal khan3:59 PM\n",
    "4210170238438\n",
    "Afnan Ali3:59 PM\n",
    "Muhammad Afnan Ali Khan 4210146436547\n",
    "Nofil Ahmed3:59 PM\n",
    "4210175076663\n",
    "\"\"\"\n",
    "\n",
    "x = x.replace(\"-\",\"\")\n",
    "import re\n",
    "cnic = re.findall(r\"\\b\\d{13}\\b\",x)\n",
    "print(len(cnic))\n",
    "cnic = list(set(cnic))\n",
    "print(len(cnic))\n",
    "\n",
    "\n",
    "import pandas as pd\n",
    "df = pd.DataFrame(cnic, columns=[\"CNIC\"])\n",
    "df\n"
   ]
  },
  {
   "cell_type": "code",
   "execution_count": null,
   "id": "6a875e88",
   "metadata": {},
   "outputs": [],
   "source": []
  }
 ],
 "metadata": {
  "kernelspec": {
   "display_name": "Python 3 (ipykernel)",
   "language": "python",
   "name": "python3"
  },
  "language_info": {
   "codemirror_mode": {
    "name": "ipython",
    "version": 3
   },
   "file_extension": ".py",
   "mimetype": "text/x-python",
   "name": "python",
   "nbconvert_exporter": "python",
   "pygments_lexer": "ipython3",
   "version": "3.9.12"
  }
 },
 "nbformat": 4,
 "nbformat_minor": 5
}
